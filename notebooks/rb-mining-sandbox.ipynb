{
 "cells": [
  {
   "cell_type": "markdown",
   "metadata": {},
   "source": [
    "# Rocky Beach Mining Sandbox"
   ]
  },
  {
   "attachments": {},
   "cell_type": "markdown",
   "metadata": {},
   "source": [
    "## Import book data from epub file\n"
   ]
  },
  {
   "cell_type": "code",
   "execution_count": 56,
   "metadata": {},
   "outputs": [
    {
     "name": "stderr",
     "output_type": "stream",
     "text": [
      "/opt/homebrew/lib/python3.9/site-packages/ebooklib/epub.py:1395: UserWarning: In the future version we will turn default option ignore_ncx to True.\n",
      "  warnings.warn('In the future version we will turn default option ignore_ncx to True.')\n"
     ]
    }
   ],
   "source": [
    "import ebooklib\n",
    "from ebooklib import epub\n",
    "from bs4 import BeautifulSoup\n",
    "\n",
    "file_name = \"/Users/kappel/Documents/Programming/python-projects/rocky-beach-mining/books/Die drei Fragezeichen 001 - Das Gespensterschloss.epub\"\n",
    "\n",
    "ebook = epub.read_epub(file_name)\n",
    "items = list(ebook.get_items_of_type(ebooklib.ITEM_DOCUMENT))"
   ]
  },
  {
   "cell_type": "code",
   "execution_count": 65,
   "metadata": {},
   "outputs": [],
   "source": [
    "class Chapter(object):\n",
    "   def __init__(self, title, text):\n",
    "      self.title = title\n",
    "      self.text = text\n",
    "\n",
    "   def get_title(chapter):\n",
    "      soup = BeautifulSoup(chapter.get_body_content(), 'html.parser')\n",
    "      title = [para.get_text() for para in soup.find_all('h2')]\n",
    "      return title\n",
    "\n",
    "   def get_text(chapter):\n",
    "      soup = BeautifulSoup(chapter.get_body_content(), 'html.parser')\n",
    "      text = [para.get_text() for para in soup.find_all('p')]\n",
    "      return ' '.join(text)\n",
    "\n",
    "class Book(object):\n",
    "   def __init__(self, file_name):\n",
    "      ebook = epub.read_epub(file_name)\n",
    "      \n",
    "      self.title = ebook.get_metadata('DC', 'title')[0][0]\n",
    "      self.author = ebook.get_metadata('DC', 'creator')[0][0]\n",
    "      self.isbn = ebook.get_metadata('DC', 'identifier')[0][0].strip('ISBN ')\n",
    "      self.description = ebook.get_metadata('DC', 'description')[0][0].strip('<p>').strip('</p>')\n",
    "\n",
    "   def info(self):\n",
    "      print('------------------')\n",
    "      print('Title: \\n' + self.title)\n",
    "      print('------------------')\n",
    "      print('Author: \\n' + self.author)\n",
    "      print('------------------')\n",
    "      print('ISBN: \\n' + self.isbn)\n",
    "      print('------------------')\n",
    "      print('Description: \\n' + self.description)\n",
    "      print('------------------')\n",
    "\n",
    "      "
   ]
  },
  {
   "cell_type": "code",
   "execution_count": 66,
   "metadata": {},
   "outputs": [
    {
     "name": "stdout",
     "output_type": "stream",
     "text": [
      "Die drei ??? und das Gespensterschloss\n",
      "Robert Arthur\n",
      "978-3-440-12916-6\n",
      "Alfred Hitchcock sucht für einen Gruselfilm ein altes Spukhaus. Hätten sich unsere drei Freunde Justus, Bob und Peter besser nicht an der Suche beteiligen sollen? Stand für sie bisher nicht fest, daß es ein Orgel spielendes Phantom nicht gibt? Für die drei ??? wird's plötzlich unheimlich -- und gefährlich!\n"
     ]
    }
   ],
   "source": [
    "ddf_book = Book(file_name)\n",
    "print(ddf_book.title)\n",
    "print(ddf_book.author)\n",
    "print(ddf_book.isbn)\n",
    "print(ddf_book.description)"
   ]
  },
  {
   "cell_type": "code",
   "execution_count": 67,
   "metadata": {},
   "outputs": [
    {
     "name": "stdout",
     "output_type": "stream",
     "text": [
      "------------------\n",
      "Title: \n",
      "Die drei ??? und das Gespensterschloss\n",
      "------------------\n",
      "Author: \n",
      "Robert Arthur\n",
      "------------------\n",
      "ISBN: \n",
      "978-3-440-12916-6\n",
      "------------------\n",
      "Description: \n",
      "Alfred Hitchcock sucht für einen Gruselfilm ein altes Spukhaus. Hätten sich unsere drei Freunde Justus, Bob und Peter besser nicht an der Suche beteiligen sollen? Stand für sie bisher nicht fest, daß es ein Orgel spielendes Phantom nicht gibt? Für die drei ??? wird's plötzlich unheimlich -- und gefährlich!\n",
      "------------------\n"
     ]
    }
   ],
   "source": [
    "ddf_book.info()"
   ]
  },
  {
   "cell_type": "code",
   "execution_count": 60,
   "metadata": {},
   "outputs": [
    {
     "data": {
      "text/plain": [
       "'for item in book.get_items_of_type(ebooklib.ITEM_DOCUMENT):\\n   print(item)'"
      ]
     },
     "execution_count": 60,
     "metadata": {},
     "output_type": "execute_result"
    }
   ],
   "source": [
    "\n",
    "'''\n",
    "for image in book.get_items_of_type(ebooklib.ITEM_IMAGE):\n",
    "   print(image)'''\n",
    "\n",
    "'''for item in book.get_items_of_type(ebooklib.ITEM_DOCUMENT):\n",
    "   print(item)'''"
   ]
  },
  {
   "cell_type": "code",
   "execution_count": 61,
   "metadata": {},
   "outputs": [
    {
     "name": "stdout",
     "output_type": "stream",
     "text": [
      "['Man spricht vom Gespensterschloss']\n"
     ]
    }
   ],
   "source": [
    "def get_chapter_title(chapter):\n",
    "  soup = BeautifulSoup(chapter.get_body_content(), 'html.parser')\n",
    "  title = [para.get_text() for para in soup.find_all('h2')]\n",
    "  return title\n",
    "\n",
    "def get_chapter_text(chapter):\n",
    "  soup = BeautifulSoup(chapter.get_body_content(), 'html.parser')\n",
    "  text = [para.get_text() for para in soup.find_all('p')]\n",
    "  return ' '.join(text)\n",
    "\n",
    "'''def chapter_to_str(chapter):\n",
    "  soup = BeautifulSoup(chapter.get_body_content(), 'html.parser')\n",
    "  text = [para.get_text() for para in soup.find_all('p')]\n",
    "  return ' '.join(text)'''\n",
    "\n",
    "chapters = []\n",
    "\n",
    "for item in ebook.get_items_of_type(ebooklib.ITEM_DOCUMENT):\n",
    "  chapters.append(item)\n",
    "\n",
    "texts = {}\n",
    "\n",
    "for c in chapters:\n",
    "  texts[c.get_name()] = chapter_to_str(c)\n",
    "\n",
    "\"\"\" for item in book.get_items():\n",
    "  if item.get_type() == ebooklib.ITEM_DOCUMENT:\n",
    "    print('==================================')\n",
    "    print('NAME : ', item.get_name())\n",
    "    print('----------------------------------')\n",
    "    #print(item.get_content())\n",
    "    print('==================================')\n",
    "    print(chapter_to_str(item))\n",
    "    print('==================================')\n",
    "    print('\\n')\n",
    "    print(texts) \"\"\"\n",
    "\n",
    "print(get_title(chapters[5]))"
   ]
  },
  {
   "cell_type": "code",
   "execution_count": null,
   "metadata": {},
   "outputs": [],
   "source": []
  }
 ],
 "metadata": {
  "interpreter": {
   "hash": "31f2aee4e71d21fbe5cf8b01ff0e069b9275f58929596ceb00d14d90e3e16cd6"
  },
  "kernelspec": {
   "display_name": "Python 3.8.9 64-bit",
   "language": "python",
   "name": "python3"
  },
  "language_info": {
   "codemirror_mode": {
    "name": "ipython",
    "version": 3
   },
   "file_extension": ".py",
   "mimetype": "text/x-python",
   "name": "python",
   "nbconvert_exporter": "python",
   "pygments_lexer": "ipython3",
   "version": "3.9.6 (default, Sep 26 2022, 11:37:49) \n[Clang 14.0.0 (clang-1400.0.29.202)]"
  },
  "orig_nbformat": 4
 },
 "nbformat": 4,
 "nbformat_minor": 2
}
